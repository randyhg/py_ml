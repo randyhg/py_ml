{
 "cells": [
  {
   "cell_type": "code",
   "execution_count": 1,
   "id": "a2ce933f",
   "metadata": {},
   "outputs": [],
   "source": [
    "class TestHitung:\n",
    "    def __init__(self, basic_salary, makan, transport, hari_kerja):\n",
    "        self.basic_salary = basic_salary\n",
    "        self.makan = makan\n",
    "        self.transport = transport\n",
    "        self.hari_kerja = hari_kerja\n",
    "        \n",
    "        \n",
    "    def hitungGaji(self):\n",
    "        gaji = (self.basic_salary + self.hari_kerja * (self.makan + self.transport)) - pajak\n",
    "        return gaji"
   ]
  },
  {
   "cell_type": "code",
   "execution_count": 2,
   "id": "e5cf8184",
   "metadata": {},
   "outputs": [],
   "source": [
    "    pajak = 0.5"
   ]
  },
  {
   "cell_type": "code",
   "execution_count": 3,
   "id": "92a680a7",
   "metadata": {},
   "outputs": [],
   "source": [
    "def transform_to_rupiah_format(value):\n",
    "    str_value = str(value)\n",
    "    separate_decimal = str_value.split(\".\")\n",
    "    after_decimal = separate_decimal[0]\n",
    "    before_decimal = separate_decimal[1]\n",
    "\n",
    "    reverse = after_decimal[::-1]\n",
    "    temp_reverse_value = \"\"\n",
    "\n",
    "    for index, val in enumerate(reverse):\n",
    "        if (index + 1) % 3 == 0 and index + 1 != len(reverse):\n",
    "            temp_reverse_value = temp_reverse_value + val + \".\"\n",
    "        else:\n",
    "            temp_reverse_value = temp_reverse_value + val\n",
    "\n",
    "    temp_result = temp_reverse_value[::-1]\n",
    "\n",
    "    return \"Rp \" + temp_result + \",\" + before_decimal"
   ]
  },
  {
   "cell_type": "code",
   "execution_count": 4,
   "id": "8025009d",
   "metadata": {},
   "outputs": [
    {
     "name": "stdout",
     "output_type": "stream",
     "text": [
      "Gaji Pokok\n",
      "None9000000\n"
     ]
    }
   ],
   "source": [
    "salary = int(input(print('Gaji Pokok')))"
   ]
  },
  {
   "cell_type": "code",
   "execution_count": 5,
   "id": "7aff690a",
   "metadata": {},
   "outputs": [
    {
     "name": "stdout",
     "output_type": "stream",
     "text": [
      "Tunjangan makan\n",
      "None20000\n"
     ]
    }
   ],
   "source": [
    "makan = int(input(print('Tunjangan makan')))"
   ]
  },
  {
   "cell_type": "code",
   "execution_count": 6,
   "id": "b311b555",
   "metadata": {},
   "outputs": [
    {
     "name": "stdout",
     "output_type": "stream",
     "text": [
      "Tunjangan transportasi\n",
      "None30000\n"
     ]
    }
   ],
   "source": [
    "transport = int(input(print('Tunjangan transportasi')))"
   ]
  },
  {
   "cell_type": "code",
   "execution_count": 7,
   "id": "cf5ef31f",
   "metadata": {},
   "outputs": [
    {
     "name": "stdout",
     "output_type": "stream",
     "text": [
      "Jumlah hari kerja\n",
      "None30\n"
     ]
    }
   ],
   "source": [
    "hari_kerja = int(input(print('Jumlah hari kerja')))"
   ]
  },
  {
   "cell_type": "code",
   "execution_count": 8,
   "id": "d0b2cb10",
   "metadata": {},
   "outputs": [],
   "source": [
    "x = TestHitung(salary, makan, transport, hari_kerja)"
   ]
  },
  {
   "cell_type": "code",
   "execution_count": 9,
   "id": "c51789a2",
   "metadata": {},
   "outputs": [],
   "source": [
    "gaji = transform_to_rupiah_format(x.hitungGaji())"
   ]
  },
  {
   "cell_type": "code",
   "execution_count": 10,
   "id": "273f4a39",
   "metadata": {},
   "outputs": [
    {
     "name": "stdout",
     "output_type": "stream",
     "text": [
      "Gaji anda adalah  Rp 10.499.999,5\n"
     ]
    }
   ],
   "source": [
    "print('Gaji anda adalah ', gaji)"
   ]
  },
  {
   "cell_type": "code",
   "execution_count": null,
   "id": "78d53c15",
   "metadata": {},
   "outputs": [],
   "source": []
  }
 ],
 "metadata": {
  "kernelspec": {
   "display_name": "Python 3 (ipykernel)",
   "language": "python",
   "name": "python3"
  },
  "language_info": {
   "codemirror_mode": {
    "name": "ipython",
    "version": 3
   },
   "file_extension": ".py",
   "mimetype": "text/x-python",
   "name": "python",
   "nbconvert_exporter": "python",
   "pygments_lexer": "ipython3",
   "version": "3.11.5"
  }
 },
 "nbformat": 4,
 "nbformat_minor": 5
}
